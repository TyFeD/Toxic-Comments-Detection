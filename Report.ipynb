{
 "cells": [
  {
   "cell_type": "code",
   "execution_count": 37,
   "id": "026bebde-7a0c-420d-841c-50990f92b258",
   "metadata": {},
   "outputs": [],
   "source": [
    "import pandas as pd\n",
    "import torch\n",
    "\n",
    "import seaborn as sns\n",
    "import matplotlib.pyplot as plt\n",
    "import pickle\n",
    "\n",
    "from sklearn.linear_model import LogisticRegression\n",
    "from sklearn.svm import LinearSVC\n",
    "from sklearn import metrics\n",
    "\n",
    "from transformers import AutoTokenizer, AutoModel"
   ]
  },
  {
   "cell_type": "markdown",
   "id": "6ca4b6f1-762e-4255-87a4-5ad2eb812846",
   "metadata": {},
   "source": [
    "# Загрузка и просмотр данных"
   ]
  },
  {
   "cell_type": "markdown",
   "id": "7c174e9d-1215-4fa3-9575-3023f3f30617",
   "metadata": {},
   "source": [
    "### Загружаем трейн-датасет и смотрим на данные"
   ]
  },
  {
   "cell_type": "code",
   "execution_count": 2,
   "id": "fdcbf1d1-7841-4218-8753-58e6c0ba01ed",
   "metadata": {},
   "outputs": [
    {
     "data": {
      "text/html": [
       "<div>\n",
       "<style scoped>\n",
       "    .dataframe tbody tr th:only-of-type {\n",
       "        vertical-align: middle;\n",
       "    }\n",
       "\n",
       "    .dataframe tbody tr th {\n",
       "        vertical-align: top;\n",
       "    }\n",
       "\n",
       "    .dataframe thead th {\n",
       "        text-align: right;\n",
       "    }\n",
       "</style>\n",
       "<table border=\"1\" class=\"dataframe\">\n",
       "  <thead>\n",
       "    <tr style=\"text-align: right;\">\n",
       "      <th></th>\n",
       "      <th>Unnamed: 0</th>\n",
       "      <th>comment</th>\n",
       "      <th>toxic</th>\n",
       "    </tr>\n",
       "  </thead>\n",
       "  <tbody>\n",
       "    <tr>\n",
       "      <th>0</th>\n",
       "      <td>3795</td>\n",
       "      <td>дегенератов везде хватает. Маркировать бы их к...</td>\n",
       "      <td>1.0</td>\n",
       "    </tr>\n",
       "    <tr>\n",
       "      <th>1</th>\n",
       "      <td>4640</td>\n",
       "      <td>Почему я не видел в продаже орочьих кружек? Ох...</td>\n",
       "      <td>0.0</td>\n",
       "    </tr>\n",
       "    <tr>\n",
       "      <th>2</th>\n",
       "      <td>7932</td>\n",
       "      <td>Напоминает новую машину в минимальной комплект...</td>\n",
       "      <td>0.0</td>\n",
       "    </tr>\n",
       "    <tr>\n",
       "      <th>3</th>\n",
       "      <td>4184</td>\n",
       "      <td>не узнать его ебанутый говор - это ещё уметь н...</td>\n",
       "      <td>1.0</td>\n",
       "    </tr>\n",
       "    <tr>\n",
       "      <th>4</th>\n",
       "      <td>1366</td>\n",
       "      <td>Я более субъективно оцениваю и на собственном ...</td>\n",
       "      <td>0.0</td>\n",
       "    </tr>\n",
       "    <tr>\n",
       "      <th>5</th>\n",
       "      <td>2246</td>\n",
       "      <td>Ну рентабельность зависит, сколько за это гото...</td>\n",
       "      <td>0.0</td>\n",
       "    </tr>\n",
       "    <tr>\n",
       "      <th>6</th>\n",
       "      <td>3226</td>\n",
       "      <td>Шшшшшш, тш тш тш тшшшш, спокойно, всё хорошо, ...</td>\n",
       "      <td>1.0</td>\n",
       "    </tr>\n",
       "    <tr>\n",
       "      <th>7</th>\n",
       "      <td>9949</td>\n",
       "      <td>А сколько платит государство? Вот это прям оче...</td>\n",
       "      <td>0.0</td>\n",
       "    </tr>\n",
       "    <tr>\n",
       "      <th>8</th>\n",
       "      <td>1383</td>\n",
       "      <td>Magic Fly - заглавная композиция с дебютного а...</td>\n",
       "      <td>0.0</td>\n",
       "    </tr>\n",
       "    <tr>\n",
       "      <th>9</th>\n",
       "      <td>470</td>\n",
       "      <td>Обивку лучше химчистка, душевую кабину силит б...</td>\n",
       "      <td>1.0</td>\n",
       "    </tr>\n",
       "    <tr>\n",
       "      <th>10</th>\n",
       "      <td>8132</td>\n",
       "      <td>Ну где то в МСК может быть. Тут дуба, ну пусть...</td>\n",
       "      <td>0.0</td>\n",
       "    </tr>\n",
       "    <tr>\n",
       "      <th>11</th>\n",
       "      <td>2362</td>\n",
       "      <td>Удачи на демо экзамене парень) сам на worlskil...</td>\n",
       "      <td>0.0</td>\n",
       "    </tr>\n",
       "  </tbody>\n",
       "</table>\n",
       "</div>"
      ],
      "text/plain": [
       "    Unnamed: 0                                            comment  toxic\n",
       "0         3795  дегенератов везде хватает. Маркировать бы их к...    1.0\n",
       "1         4640  Почему я не видел в продаже орочьих кружек? Ох...    0.0\n",
       "2         7932  Напоминает новую машину в минимальной комплект...    0.0\n",
       "3         4184  не узнать его ебанутый говор - это ещё уметь н...    1.0\n",
       "4         1366  Я более субъективно оцениваю и на собственном ...    0.0\n",
       "5         2246  Ну рентабельность зависит, сколько за это гото...    0.0\n",
       "6         3226  Шшшшшш, тш тш тш тшшшш, спокойно, всё хорошо, ...    1.0\n",
       "7         9949  А сколько платит государство? Вот это прям оче...    0.0\n",
       "8         1383  Magic Fly - заглавная композиция с дебютного а...    0.0\n",
       "9          470  Обивку лучше химчистка, душевую кабину силит б...    1.0\n",
       "10        8132  Ну где то в МСК может быть. Тут дуба, ну пусть...    0.0\n",
       "11        2362  Удачи на демо экзамене парень) сам на worlskil...    0.0"
      ]
     },
     "execution_count": 2,
     "metadata": {},
     "output_type": "execute_result"
    }
   ],
   "source": [
    "url_train = 'D:\\All_Projects\\Programm_Projects\\Projects\\Cism-NLP\\data\\data_train.csv'\n",
    "dfComments_train = pd.read_csv(url_train, sep=',', engine='python')\n",
    "dfComments_train.head(12)"
   ]
  },
  {
   "cell_type": "markdown",
   "id": "eff8d0fb-e73d-4ce8-9038-b2ae483613aa",
   "metadata": {},
   "source": [
    "### Загружаем тест-датасет и смотрим на данные"
   ]
  },
  {
   "cell_type": "code",
   "execution_count": 3,
   "id": "8dccb6f6-76a8-4d34-a74e-3a04ae94fb31",
   "metadata": {},
   "outputs": [
    {
     "data": {
      "text/html": [
       "<div>\n",
       "<style scoped>\n",
       "    .dataframe tbody tr th:only-of-type {\n",
       "        vertical-align: middle;\n",
       "    }\n",
       "\n",
       "    .dataframe tbody tr th {\n",
       "        vertical-align: top;\n",
       "    }\n",
       "\n",
       "    .dataframe thead th {\n",
       "        text-align: right;\n",
       "    }\n",
       "</style>\n",
       "<table border=\"1\" class=\"dataframe\">\n",
       "  <thead>\n",
       "    <tr style=\"text-align: right;\">\n",
       "      <th></th>\n",
       "      <th>Unnamed: 0</th>\n",
       "      <th>comment</th>\n",
       "      <th>toxic</th>\n",
       "    </tr>\n",
       "  </thead>\n",
       "  <tbody>\n",
       "    <tr>\n",
       "      <th>0</th>\n",
       "      <td>14051</td>\n",
       "      <td>Весь мир знает, что свиньи это русские. Это ва...</td>\n",
       "      <td>1.0</td>\n",
       "    </tr>\n",
       "    <tr>\n",
       "      <th>1</th>\n",
       "      <td>13291</td>\n",
       "      <td>Речь не о том, что ютуб подсовывает, а о самых...</td>\n",
       "      <td>0.0</td>\n",
       "    </tr>\n",
       "    <tr>\n",
       "      <th>2</th>\n",
       "      <td>10641</td>\n",
       "      <td>А если аллергия, ещё и звуковые спецэффекты бу...</td>\n",
       "      <td>0.0</td>\n",
       "    </tr>\n",
       "    <tr>\n",
       "      <th>3</th>\n",
       "      <td>8855</td>\n",
       "      <td>где купить такую красоту?\\n</td>\n",
       "      <td>0.0</td>\n",
       "    </tr>\n",
       "    <tr>\n",
       "      <th>4</th>\n",
       "      <td>1948</td>\n",
       "      <td>Почему ты такой тупой ? я ж объяснил на что ко...</td>\n",
       "      <td>1.0</td>\n",
       "    </tr>\n",
       "    <tr>\n",
       "      <th>5</th>\n",
       "      <td>3129</td>\n",
       "      <td>Какая должна быть адекватная зарплата, чтобы я...</td>\n",
       "      <td>0.0</td>\n",
       "    </tr>\n",
       "    <tr>\n",
       "      <th>6</th>\n",
       "      <td>7101</td>\n",
       "      <td>Если есть оборудование - да. Там был вопрос в ...</td>\n",
       "      <td>0.0</td>\n",
       "    </tr>\n",
       "    <tr>\n",
       "      <th>7</th>\n",
       "      <td>11322</td>\n",
       "      <td>Как я понял, строительство стадиона было в т.ч...</td>\n",
       "      <td>0.0</td>\n",
       "    </tr>\n",
       "    <tr>\n",
       "      <th>8</th>\n",
       "      <td>8799</td>\n",
       "      <td>А смысл? Сторонники Н все равно ведь ни одному...</td>\n",
       "      <td>0.0</td>\n",
       "    </tr>\n",
       "    <tr>\n",
       "      <th>9</th>\n",
       "      <td>5456</td>\n",
       "      <td>Вопрос не в размере, а в наличии вообще и в во...</td>\n",
       "      <td>0.0</td>\n",
       "    </tr>\n",
       "    <tr>\n",
       "      <th>10</th>\n",
       "      <td>6659</td>\n",
       "      <td>Ооо, у моей мамы такая была и есть, но пользуе...</td>\n",
       "      <td>0.0</td>\n",
       "    </tr>\n",
       "    <tr>\n",
       "      <th>11</th>\n",
       "      <td>7428</td>\n",
       "      <td>Всё будет замечательно пока кто-то не решит, ч...</td>\n",
       "      <td>0.0</td>\n",
       "    </tr>\n",
       "  </tbody>\n",
       "</table>\n",
       "</div>"
      ],
      "text/plain": [
       "    Unnamed: 0                                            comment  toxic\n",
       "0        14051  Весь мир знает, что свиньи это русские. Это ва...    1.0\n",
       "1        13291  Речь не о том, что ютуб подсовывает, а о самых...    0.0\n",
       "2        10641  А если аллергия, ещё и звуковые спецэффекты бу...    0.0\n",
       "3         8855                        где купить такую красоту?\\n    0.0\n",
       "4         1948  Почему ты такой тупой ? я ж объяснил на что ко...    1.0\n",
       "5         3129  Какая должна быть адекватная зарплата, чтобы я...    0.0\n",
       "6         7101  Если есть оборудование - да. Там был вопрос в ...    0.0\n",
       "7        11322  Как я понял, строительство стадиона было в т.ч...    0.0\n",
       "8         8799  А смысл? Сторонники Н все равно ведь ни одному...    0.0\n",
       "9         5456  Вопрос не в размере, а в наличии вообще и в во...    0.0\n",
       "10        6659  Ооо, у моей мамы такая была и есть, но пользуе...    0.0\n",
       "11        7428  Всё будет замечательно пока кто-то не решит, ч...    0.0"
      ]
     },
     "execution_count": 3,
     "metadata": {},
     "output_type": "execute_result"
    }
   ],
   "source": [
    "url_test = 'D:\\All_Projects\\Programm_Projects\\Projects\\Cism-NLP\\data\\data_test_public.csv'\n",
    "dfComments_test = pd.read_csv(url_test, sep=',', engine='python')\n",
    "dfComments_test.head(12)"
   ]
  },
  {
   "cell_type": "markdown",
   "id": "9c64d2c1-88e3-46c1-b97c-74cdf272f5c9",
   "metadata": {},
   "source": [
    "### Далее посмотрим на распределение классов в тест и трейн выборках"
   ]
  },
  {
   "cell_type": "code",
   "execution_count": 4,
   "id": "eff1f447-5d6a-48f9-9981-3476969eb24e",
   "metadata": {},
   "outputs": [
    {
     "data": {
      "image/png": "[encoded data removed]",
      "text/plain": [
       "<Figure size 432x288 with 1 Axes>"
      ]
     },
     "metadata": {},
     "output_type": "display_data"
    }
   ],
   "source": [
    "dfComments_train['toxic'].value_counts().plot(kind='pie', title='Соотношение классов для train-выборки', autopct='%1.1f%%')\n",
    "plt.axis('off')\n",
    "plt.show()"
   ]
  },
  {
   "cell_type": "code",
   "execution_count": 5,
   "id": "06e89848-37ec-462c-800a-021652a0cd6a",
   "metadata": {},
   "outputs": [
    {
     "data": {
      "image/png": "[encoded data removed]",
      "text/plain": [
       "<Figure size 432x288 with 1 Axes>"
      ]
     },
     "metadata": {},
     "output_type": "display_data"
    }
   ],
   "source": [
    "dfComments_test['toxic'].value_counts().plot(kind='pie', title='Соотношение классов для test-выборки', autopct='%1.1f%%')\n",
    "plt.axis('off')\n",
    "plt.show()"
   ]
  },
  {
   "cell_type": "markdown",
   "id": "4d509ab3-aeec-41d3-9f7b-4dbe8eaa237a",
   "metadata": {},
   "source": [
    "Как можно видеть, классы не сбалансорованы. А это значит, что метрика ` accuracy ` нам не подходит. \n",
    "\n",
    "Для оценки моделей, будем использовать метрики `f1-score` и ` ROC-AUC` , хорошо описывающие модели для бинарной классификации с несбалансированнми классами"
   ]
  },
  {
   "cell_type": "code",
   "execution_count": 26,
   "id": "0b48a8a4-e48c-4c47-837d-974562865509",
   "metadata": {},
   "outputs": [],
   "source": [
    "sentences_train = list(dfComments_train.comment.values)\n",
    "labels_train = dfComments_train.toxic.astype(int).values\n",
    "\n",
    "sentences_test = list(dfComments_test.comment.values)\n",
    "labels_test = dfComments_test.toxic.astype(int).values"
   ]
  },
  {
   "cell_type": "markdown",
   "id": "b89f1018-57ba-4d2c-b87b-2c83e34f48d8",
   "metadata": {},
   "source": [
    "# Формирование эмбедингов коментариев"
   ]
  },
  {
   "cell_type": "markdown",
   "id": "4fdb79a2-f9be-47be-8b5f-d01e53db0a4d",
   "metadata": {},
   "source": [
    "## Формирование embeddings_train"
   ]
  },
  {
   "cell_type": "markdown",
   "id": "b87cbbf0-f1ef-467d-8c3d-f45a1c0d142e",
   "metadata": {},
   "source": [
    "LaBSE - модель, хорошо показавшая качество своих эмбедингов на 6 из 10 бенчмарков (см. https://habr.com/ru/post/562064/)  \n",
    "\"Легковесность модели\" был один из важнейших параметров, для возможности проведения большего количества экспериментов, в условиях слабого железа. Для решения задачи, я взял модель LaBSE, но значительно облегченную, т.к в ее словаре остались только русские и английские токены  \n",
    "\n",
    "ссылка на предобученную модель: https://huggingface.co/cointegrated/LaBSE-en-ru"
   ]
  },
  {
   "cell_type": "code",
   "execution_count": 7,
   "id": "970f326e-fd2d-4842-ae67-5c78b8b4174b",
   "metadata": {},
   "outputs": [
    {
     "name": "stderr",
     "output_type": "stream",
     "text": [
      "Some weights of the model checkpoint at cointegrated/LaBSE-en-ru were not used when initializing BertModel: ['cls.predictions.transform.dense.weight', 'cls.predictions.decoder.bias', 'cls.predictions.transform.LayerNorm.bias', 'cls.seq_relationship.bias', 'cls.predictions.bias', 'cls.seq_relationship.weight', 'cls.predictions.decoder.weight', 'cls.predictions.transform.LayerNorm.weight', 'cls.predictions.transform.dense.bias']\n",
      "- This IS expected if you are initializing BertModel from the checkpoint of a model trained on another task or with another architecture (e.g. initializing a BertForSequenceClassification model from a BertForPreTraining model).\n",
      "- This IS NOT expected if you are initializing BertModel from the checkpoint of a model that you expect to be exactly identical (initializing a BertForSequenceClassification model from a BertForSequenceClassification model).\n"
     ]
    }
   ],
   "source": [
    "# model_url = 'rubert-toxic-pikabu-2ch'\n",
    "tokenizer = AutoTokenizer.from_pretrained(\"cointegrated/LaBSE-en-ru\")\n",
    "model = AutoModel.from_pretrained(\"cointegrated/LaBSE-en-ru\")"
   ]
  },
  {
   "cell_type": "markdown",
   "id": "957f2784-fe51-4db2-a7fe-510ab6f18b0e",
   "metadata": {},
   "source": [
    "max_length = 64  \n",
    "truncation=True - усечение до max_length  "
   ]
  },
  {
   "cell_type": "markdown",
   "id": "a73cc69e-9936-4731-8d28-399c44125ffa",
   "metadata": {},
   "source": [
    "https://huggingface.co/transformers/v3.0.2/preprocessing.html"
   ]
  },
  {
   "cell_type": "markdown",
   "id": "118304b0-19cb-4f98-bbf9-837ee3b43c2c",
   "metadata": {},
   "source": [
    "Сокращаем наши батчи до максимального размера 64, и дозаполняем нулями те батчи, которые имеют меньший размер"
   ]
  },
  {
   "cell_type": "code",
   "execution_count": 8,
   "id": "e4735b8f-181d-4a6c-baab-2bbba3ed78d6",
   "metadata": {},
   "outputs": [],
   "source": [
    "encoded_input_train = tokenizer(sentences_train, truncation=True, padding=True, max_length=64, add_special_tokens=True, return_tensors='pt')"
   ]
  },
  {
   "cell_type": "markdown",
   "id": "3e051c2b-7e6a-4d30-8825-7346645de007",
   "metadata": {},
   "source": [
    "Формируем эмбединги для всех элементов тензора ` encoded_input_train ` "
   ]
  },
  {
   "cell_type": "code",
   "execution_count": 9,
   "id": "c336eb57-e5a1-4e85-8eae-7c061959efa2",
   "metadata": {},
   "outputs": [],
   "source": [
    "with torch.no_grad():\n",
    "    model_output = model(**encoded_input_train)"
   ]
  },
  {
   "cell_type": "code",
   "execution_count": 10,
   "id": "fabcab46-e46c-4195-923c-e331de2d4e58",
   "metadata": {},
   "outputs": [],
   "source": [
    "embeddings = model_output.pooler_output"
   ]
  },
  {
   "cell_type": "code",
   "execution_count": 11,
   "id": "81a6596d-b32e-4746-8475-b51ab4d3f09f",
   "metadata": {},
   "outputs": [],
   "source": [
    "embeddings_train = torch.nn.functional.normalize(embeddings)"
   ]
  },
  {
   "cell_type": "markdown",
   "id": "f4fbc03e-7e1e-47f6-ae3f-30e803772b48",
   "metadata": {},
   "source": [
    "## Формирование embeddings_test"
   ]
  },
  {
   "cell_type": "markdown",
   "id": "26a02275-216c-4cd2-b059-2e39981bd268",
   "metadata": {},
   "source": [
    "Выполняем все те-же шаги, что и для трейн-эмбедингов"
   ]
  },
  {
   "cell_type": "code",
   "execution_count": 13,
   "id": "b365babd-24a0-452f-a3e2-defed91b26fd",
   "metadata": {},
   "outputs": [],
   "source": [
    "encoded_input_test = tokenizer(sentences_test, truncation=True, padding=True, max_length=64, add_special_tokens=True, return_tensors='pt')"
   ]
  },
  {
   "cell_type": "code",
   "execution_count": 14,
   "id": "54769671-d0ec-41d6-8d30-966f1dbfc08b",
   "metadata": {},
   "outputs": [],
   "source": [
    "with torch.no_grad():\n",
    "    model_output = model(**encoded_input_test)"
   ]
  },
  {
   "cell_type": "code",
   "execution_count": 15,
   "id": "3a7405b1-7242-4cfd-ae8d-cb5ffbe58150",
   "metadata": {},
   "outputs": [],
   "source": [
    "embeddings = model_output.pooler_output"
   ]
  },
  {
   "cell_type": "code",
   "execution_count": 16,
   "id": "5963e8aa-d02d-4955-aea1-755854f5aceb",
   "metadata": {},
   "outputs": [],
   "source": [
    "embeddings_test = torch.nn.functional.normalize(embeddings)"
   ]
  },
  {
   "cell_type": "markdown",
   "id": "437e46b6-ab4c-4272-8133-890ff73accb3",
   "metadata": {},
   "source": [
    "## Fit LogisticRegression"
   ]
  },
  {
   "cell_type": "code",
   "execution_count": 38,
   "id": "af2905f6-4fc3-4bf2-a5b6-cb5e62096e63",
   "metadata": {},
   "outputs": [
    {
     "data": {
      "text/html": [
       "<style>#sk-container-id-2 {color: black;background-color: white;}#sk-container-id-2 pre{padding: 0;}#sk-container-id-2 div.sk-toggleable {background-color: white;}#sk-container-id-2 label.sk-toggleable__label {cursor: pointer;display: block;width: 100%;margin-bottom: 0;padding: 0.3em;box-sizing: border-box;text-align: center;}#sk-container-id-2 label.sk-toggleable__label-arrow:before {content: \"▸\";float: left;margin-right: 0.25em;color: #696969;}#sk-container-id-2 label.sk-toggleable__label-arrow:hover:before {color: black;}#sk-container-id-2 div.sk-estimator:hover label.sk-toggleable__label-arrow:before {color: black;}#sk-container-id-2 div.sk-toggleable__content {max-height: 0;max-width: 0;overflow: hidden;text-align: left;background-color: #f0f8ff;}#sk-container-id-2 div.sk-toggleable__content pre {margin: 0.2em;color: black;border-radius: 0.25em;background-color: #f0f8ff;}#sk-container-id-2 input.sk-toggleable__control:checked~div.sk-toggleable__content {max-height: 200px;max-width: 100%;overflow: auto;}#sk-container-id-2 input.sk-toggleable__control:checked~label.sk-toggleable__label-arrow:before {content: \"▾\";}#sk-container-id-2 div.sk-estimator input.sk-toggleable__control:checked~label.sk-toggleable__label {background-color: #d4ebff;}#sk-container-id-2 div.sk-label input.sk-toggleable__control:checked~label.sk-toggleable__label {background-color: #d4ebff;}#sk-container-id-2 input.sk-hidden--visually {border: 0;clip: rect(1px 1px 1px 1px);clip: rect(1px, 1px, 1px, 1px);height: 1px;margin: -1px;overflow: hidden;padding: 0;position: absolute;width: 1px;}#sk-container-id-2 div.sk-estimator {font-family: monospace;background-color: #f0f8ff;border: 1px dotted black;border-radius: 0.25em;box-sizing: border-box;margin-bottom: 0.5em;}#sk-container-id-2 div.sk-estimator:hover {background-color: #d4ebff;}#sk-container-id-2 div.sk-parallel-item::after {content: \"\";width: 100%;border-bottom: 1px solid gray;flex-grow: 1;}#sk-container-id-2 div.sk-label:hover label.sk-toggleable__label {background-color: #d4ebff;}#sk-container-id-2 div.sk-serial::before {content: \"\";position: absolute;border-left: 1px solid gray;box-sizing: border-box;top: 0;bottom: 0;left: 50%;z-index: 0;}#sk-container-id-2 div.sk-serial {display: flex;flex-direction: column;align-items: center;background-color: white;padding-right: 0.2em;padding-left: 0.2em;position: relative;}#sk-container-id-2 div.sk-item {position: relative;z-index: 1;}#sk-container-id-2 div.sk-parallel {display: flex;align-items: stretch;justify-content: center;background-color: white;position: relative;}#sk-container-id-2 div.sk-item::before, #sk-container-id-2 div.sk-parallel-item::before {content: \"\";position: absolute;border-left: 1px solid gray;box-sizing: border-box;top: 0;bottom: 0;left: 50%;z-index: -1;}#sk-container-id-2 div.sk-parallel-item {display: flex;flex-direction: column;z-index: 1;position: relative;background-color: white;}#sk-container-id-2 div.sk-parallel-item:first-child::after {align-self: flex-end;width: 50%;}#sk-container-id-2 div.sk-parallel-item:last-child::after {align-self: flex-start;width: 50%;}#sk-container-id-2 div.sk-parallel-item:only-child::after {width: 0;}#sk-container-id-2 div.sk-dashed-wrapped {border: 1px dashed gray;margin: 0 0.4em 0.5em 0.4em;box-sizing: border-box;padding-bottom: 0.4em;background-color: white;}#sk-container-id-2 div.sk-label label {font-family: monospace;font-weight: bold;display: inline-block;line-height: 1.2em;}#sk-container-id-2 div.sk-label-container {text-align: center;}#sk-container-id-2 div.sk-container {/* jupyter's `normalize.less` sets `[hidden] { display: none; }` but bootstrap.min.css set `[hidden] { display: none !important; }` so we also need the `!important` here to be able to override the default hidden behavior on the sphinx rendered scikit-learn.org. See: https://github.com/scikit-learn/scikit-learn/issues/21755 */display: inline-block !important;position: relative;}#sk-container-id-2 div.sk-text-repr-fallback {display: none;}</style><div id=\"sk-container-id-2\" class=\"sk-top-container\"><div class=\"sk-text-repr-fallback\"><pre>LinearSVC()</pre><b>In a Jupyter environment, please rerun this cell to show the HTML representation or trust the notebook. <br />On GitHub, the HTML representation is unable to render, please try loading this page with nbviewer.org.</b></div><div class=\"sk-container\" hidden><div class=\"sk-item\"><div class=\"sk-estimator sk-toggleable\"><input class=\"sk-toggleable__control sk-hidden--visually\" id=\"sk-estimator-id-2\" type=\"checkbox\" checked><label for=\"sk-estimator-id-2\" class=\"sk-toggleable__label sk-toggleable__label-arrow\">LinearSVC</label><div class=\"sk-toggleable__content\"><pre>LinearSVC()</pre></div></div></div></div></div>"
      ],
      "text/plain": [
       "LinearSVC()"
      ]
     },
     "execution_count": 38,
     "metadata": {},
     "output_type": "execute_result"
    }
   ],
   "source": [
    "lr_clf = LinearSVC()\n",
    "lr_clf.fit(embeddings_train, labels_train)\n",
    "# unmasker.fit(train_features, labels_train)"
   ]
  },
  {
   "cell_type": "markdown",
   "id": "9ac06ceb-63ce-4053-bd48-19fad8d336db",
   "metadata": {},
   "source": [
    "## Сохраняем модель"
   ]
  },
  {
   "cell_type": "code",
   "execution_count": 39,
   "id": "99e15c31-5e68-4808-b1d6-6a63be92d564",
   "metadata": {},
   "outputs": [],
   "source": [
    "filename = 'LogisticRegression_model.sav'\n",
    "pickle.dump(lr_clf, open(filename, 'wb'))"
   ]
  },
  {
   "cell_type": "markdown",
   "id": "085b7de1-f4e5-4c41-9e70-e16e8d6db603",
   "metadata": {},
   "source": [
    "# Итоговый скор"
   ]
  },
  {
   "cell_type": "code",
   "execution_count": 20,
   "id": "91f6b6e1-1553-4a0e-81f2-937aaf8d3a62",
   "metadata": {},
   "outputs": [
    {
     "name": "stdout",
     "output_type": "stream",
     "text": [
      "0.8556034482758621\n"
     ]
    }
   ],
   "source": [
    "f1 = metrics.f1_score(labels_test, lr_clf.predict(embeddings_test))\n",
    "print(f1)"
   ]
  },
  {
   "cell_type": "code",
   "execution_count": 21,
   "id": "189d50fa-c7e3-495e-9438-a56837578a13",
   "metadata": {},
   "outputs": [
    {
     "data": {
      "image/png": "[encoded data removed]",
      "text/plain": [
       "<Figure size 720x432 with 2 Axes>"
      ]
     },
     "metadata": {
      "needs_background": "light"
     },
     "output_type": "display_data"
    }
   ],
   "source": [
    "cm = metrics.confusion_matrix(labels_test, lr_clf.predict(embeddings_test))\n",
    "\n",
    "def plotConfusionMatrix(cm):\n",
    "    \"\"\"\n",
    "    Функция для отрисовки \"тепловой карты\" confusion матрицы.\n",
    "    \n",
    "    \"\"\"\n",
    "    fig = plt.figure(figsize=(10,6))\n",
    "    sns.heatmap(cm, annot=True, fmt=\"d\")\n",
    "    plt.title('Confusion матрица')\n",
    "    plt.xlabel('Предсказанные значения')\n",
    "    plt.ylabel('Истинные значения')\n",
    "    \n",
    "    return None\n",
    "\n",
    "plotConfusionMatrix(cm)"
   ]
  },
  {
   "cell_type": "code",
   "execution_count": 22,
   "id": "581d7954-ce93-417e-90f9-ae259550539c",
   "metadata": {},
   "outputs": [],
   "source": [
    "def plotROC(y_test, probs, titl=''):\n",
    "\n",
    "    fpr, tpr, threshold = metrics.roc_curve(y_test, probs)\n",
    "    roc_auc = metrics.auc(fpr, tpr)\n",
    "    plt.title(titl)\n",
    "    plt.plot(fpr, tpr, 'b', label = 'AUC = %0.5f' % roc_auc)\n",
    "    plt.legend(loc = 'lower right')\n",
    "    plt.plot([0, 1], [0, 1],'r--')\n",
    "    plt.xlim([0, 1])\n",
    "    plt.ylim([0, 1])\n",
    "    plt.ylabel('TP')\n",
    "    plt.xlabel('FP')\n",
    "    plt.show()\n",
    "    return None"
   ]
  },
  {
   "cell_type": "code",
   "execution_count": 23,
   "id": "52e6fb64-6af1-4b5f-a68e-1d4516e6e5bc",
   "metadata": {},
   "outputs": [
    {
     "data": {
      "image/png": "[encoded data removed]",
      "text/plain": [
       "<Figure size 432x288 with 1 Axes>"
      ]
     },
     "metadata": {
      "needs_background": "light"
     },
     "output_type": "display_data"
    },
    {
     "data": {
      "image/png": "[encoded data removed]",
      "text/plain": [
       "<Figure size 432x288 with 1 Axes>"
      ]
     },
     "metadata": {
      "needs_background": "light"
     },
     "output_type": "display_data"
    }
   ],
   "source": [
    "probs = lr_clf.predict_proba(embeddings_train)[:,1]\n",
    "plotROC(labels_train, probs, 'Train')\n",
    "\n",
    "probs = lr_clf.predict_proba(embeddings_test)[:,1]\n",
    "plotROC(labels_test, probs, 'Test')"
   ]
  },
  {
   "cell_type": "markdown",
   "id": "39a49ab4-30de-42f6-aa2e-5bfa8a8756a6",
   "metadata": {},
   "source": [
    "## Скоры других моделей"
   ]
  },
  {
   "cell_type": "markdown",
   "id": "6fd56595-fa56-4df1-954c-6afd036eac35",
   "metadata": {},
   "source": [
    "classifier_pipeline = Pipeline(  \n",
    "            (\"vectorizer\", TfidfVectorizer()),  \n",
    "            (\"classifier\", LinearSVC())/LogisticRegression() \n",
    "        )"
   ]
  },
  {
   "cell_type": "code",
   "execution_count": 24,
   "id": "2927f5dc-b3c6-4b57-9e14-8220c9889afd",
   "metadata": {},
   "outputs": [
    {
     "data": {
      "text/html": [
       "<div>\n",
       "<style scoped>\n",
       "    .dataframe tbody tr th:only-of-type {\n",
       "        vertical-align: middle;\n",
       "    }\n",
       "\n",
       "    .dataframe tbody tr th {\n",
       "        vertical-align: top;\n",
       "    }\n",
       "\n",
       "    .dataframe thead th {\n",
       "        text-align: right;\n",
       "    }\n",
       "</style>\n",
       "<table border=\"1\" class=\"dataframe\">\n",
       "  <thead>\n",
       "    <tr style=\"text-align: right;\">\n",
       "      <th></th>\n",
       "      <th>f1 score</th>\n",
       "    </tr>\n",
       "  </thead>\n",
       "  <tbody>\n",
       "    <tr>\n",
       "      <th>TF-idf + LinearSVC</th>\n",
       "      <td>0.824444</td>\n",
       "    </tr>\n",
       "    <tr>\n",
       "      <th>TF-idf + LogisticRegression</th>\n",
       "      <td>0.801743</td>\n",
       "    </tr>\n",
       "  </tbody>\n",
       "</table>\n",
       "</div>"
      ],
      "text/plain": [
       "                             f1 score\n",
       "TF-idf + LinearSVC           0.824444\n",
       "TF-idf + LogisticRegression  0.801743"
      ]
     },
     "execution_count": 24,
     "metadata": {},
     "output_type": "execute_result"
    }
   ],
   "source": [
    "pd.DataFrame([0.824444, 0.801743], index=['TF-idf + LinearSVC', 'TF-idf + LogisticRegression'], columns=['f1 score'])"
   ]
  },
  {
   "cell_type": "code",
   "execution_count": 25,
   "id": "30e72614-5f3b-46c1-8b6c-58e8252aae32",
   "metadata": {},
   "outputs": [
    {
     "data": {
      "text/html": [
       "<div>\n",
       "<style scoped>\n",
       "    .dataframe tbody tr th:only-of-type {\n",
       "        vertical-align: middle;\n",
       "    }\n",
       "\n",
       "    .dataframe tbody tr th {\n",
       "        vertical-align: top;\n",
       "    }\n",
       "\n",
       "    .dataframe thead th {\n",
       "        text-align: right;\n",
       "    }\n",
       "</style>\n",
       "<table border=\"1\" class=\"dataframe\">\n",
       "  <thead>\n",
       "    <tr style=\"text-align: right;\">\n",
       "      <th></th>\n",
       "      <th>ROC-AUC</th>\n",
       "    </tr>\n",
       "  </thead>\n",
       "  <tbody>\n",
       "    <tr>\n",
       "      <th>TF-idf + LinearSVC</th>\n",
       "      <td>0.93899</td>\n",
       "    </tr>\n",
       "    <tr>\n",
       "      <th>TF-idf + LogisticRegression</th>\n",
       "      <td>0.89466</td>\n",
       "    </tr>\n",
       "  </tbody>\n",
       "</table>\n",
       "</div>"
      ],
      "text/plain": [
       "                             ROC-AUC\n",
       "TF-idf + LinearSVC           0.93899\n",
       "TF-idf + LogisticRegression  0.89466"
      ]
     },
     "execution_count": 25,
     "metadata": {},
     "output_type": "execute_result"
    }
   ],
   "source": [
    "pd.DataFrame([0.93899, 0.89466], index=['TF-idf + LinearSVC', 'TF-idf + LogisticRegression'], columns=['ROC-AUC'])"
   ]
  },
  {
   "cell_type": "markdown",
   "id": "22eaa1b7-7d60-4566-a692-4553acec3e4a",
   "metadata": {},
   "source": [
    "# Итоги и идеи по улучшению пайплайна"
   ]
  },
  {
   "cell_type": "markdown",
   "id": "2c01f017-395b-40c5-a358-2a3051a04582",
   "metadata": {},
   "source": [
    "## Итоги"
   ]
  },
  {
   "cell_type": "markdown",
   "id": "0b9e5067-f045-42bd-84b6-4bbd08cdf397",
   "metadata": {},
   "source": [
    "f1: 0.8556034482758621  \n",
    "ROC-AUC: 0.96052  \n",
    "\n",
    "Получившаяся модель неплохо справляется с задачей, и за счет классификации сообщейни логистической регрессией, занимает не так много памяти, сколько заняли бы нейросетевые BERT-решения. В случаях жесткого ограничения в вычислительных ресурсах, зместо Bert-ембеддингов можно использовать Tf-Idf векторизацию, с потерей f1-скора ~0.03\n",
    "\n",
    "Модель 'ruBert − Toxic' из статьи https://habr.com/ru/company/vk/blog/526268/ показывает f1-score, на ~0.06 выше, что является хорошим приростом в качестве. И для решения реальных задач, при отсутствии жестких ограничений по мощности, лучше использовать эту модель, предобученную на целевом датасете.  "
   ]
  },
  {
   "cell_type": "markdown",
   "id": "d80b6bcd-9ad1-44ad-9588-d269c4b082fe",
   "metadata": {},
   "source": [
    "## Идеи по улучшению пайплайна"
   ]
  },
  {
   "cell_type": "markdown",
   "id": "75c5c851-786c-476a-938b-61b225809dec",
   "metadata": {},
   "source": [
    "Учитывая специфику задачи, жесткая предобработка текста может \"упустить\", интересные закономерности в используемых оскорбительных эпитетах. Удаление стоп-слов может нарушить некоторые устоявшиеся оскорбительные выражения.  \n",
    "Мною было проведено не достаточно исследований, для обоснования этого тезиса, но исследовательская \"интуиция\" говорит именно это. Был бы рад получить обратную связь по этому вопросу.  \n",
    "\n",
    "Поверхностная предобработка данных с удалением стоп-слов и ссылок ,и последующим стеммингом, показала уменьшение f1-скора.  \n",
    "Учитывая, что в датасетах, есть экземпляры представленные в виде: \"URL-ссылка\" - \"label\". Отказ от пребобработки текста, мне кажется обоснованным."
   ]
  },
  {
   "cell_type": "markdown",
   "id": "05f91a9a-728d-4bb9-9293-2a4cdd8f3511",
   "metadata": {},
   "source": [
    "Также, для увеличения качества модели, необходимо сформировать более качественный датасет. Начиная от решения проблемы представления \"URL-ссылка\" - \"label\", названной выше, заканчивая попыткой учета контекста коментария. При ознакомлении с датасетом, на глаза попадались коментарии, которые я с трудом могу отнести к токсичным (\"токсичность\" вообще субъективное понятие), возможно, тематика поста, под которым был оставлен данный коментарий, тематика паблика, или прочий контекст смог бы несколько улучшить инференс модели."
   ]
  },
  {
   "cell_type": "markdown",
   "id": "ea51b067-2396-46cf-907b-d123361e06fe",
   "metadata": {},
   "source": [
    "Также нужно было бы попробовать использовать модель от Сбербанка: ` sbert-large by Sber `"
   ]
  }
 ],
 "metadata": {
  "kernelspec": {
   "display_name": "Python 3 (ipykernel)",
   "language": "python",
   "name": "python3"
  },
  "language_info": {
   "codemirror_mode": {
    "name": "ipython",
    "version": 3
   },
   "file_extension": ".py",
   "mimetype": "text/x-python",
   "name": "python",
   "nbconvert_exporter": "python",
   "pygments_lexer": "ipython3",
   "version": "3.10.5"
  }
 },
 "nbformat": 4,
 "nbformat_minor": 5
}
